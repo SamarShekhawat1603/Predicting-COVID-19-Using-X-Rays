{
 "cells": [
  {
   "cell_type": "code",
   "execution_count": 19,
   "metadata": {
    "colab": {
     "base_uri": "https://localhost:8080/"
    },
    "id": "8TJlEVJfgFkh",
    "outputId": "840a5b19-97a3-4352-d813-08afe898becc"
   },
   "outputs": [
    {
     "name": "stdout",
     "output_type": "stream",
     "text": [
      "--2022-01-07 18:19:20--  http://cb.lk/covid_19\n",
      "Resolving cb.lk (cb.lk)... 172.67.187.81, 104.21.72.203, 2606:4700:3032::ac43:bb51, ...\n",
      "Connecting to cb.lk (cb.lk)|172.67.187.81|:80... connected.\n",
      "HTTP request sent, awaiting response... 301 Moved Permanently\n",
      "Location: https://cb.lk/covid_19 [following]\n",
      "--2022-01-07 18:19:21--  https://cb.lk/covid_19\n",
      "Connecting to cb.lk (cb.lk)|172.67.187.81|:443... connected.\n",
      "HTTP request sent, awaiting response... 302 Found\n",
      "Location: https://www.dropbox.com/s/7rjw6oet4za01op/CovidDataset-20200427T133042Z-001.zip?dl=0 [following]\n",
      "--2022-01-07 18:19:21--  https://www.dropbox.com/s/7rjw6oet4za01op/CovidDataset-20200427T133042Z-001.zip?dl=0\n",
      "Resolving www.dropbox.com (www.dropbox.com)... 162.125.3.18, 2620:100:601b:18::a27d:812\n",
      "Connecting to www.dropbox.com (www.dropbox.com)|162.125.3.18|:443... connected.\n",
      "HTTP request sent, awaiting response... 301 Moved Permanently\n",
      "Location: /s/raw/7rjw6oet4za01op/CovidDataset-20200427T133042Z-001.zip [following]\n",
      "--2022-01-07 18:19:22--  https://www.dropbox.com/s/raw/7rjw6oet4za01op/CovidDataset-20200427T133042Z-001.zip\n",
      "Reusing existing connection to www.dropbox.com:443.\n",
      "HTTP request sent, awaiting response... 302 Found\n",
      "Location: https://uc6815d7ce37ab7882644dd34c81.dl.dropboxusercontent.com/cd/0/inline/BdUdsAXwe76Z3e3FwdLJksWxSopeSKIHzZusFREMDjASNCgVke2S4PpW0aW07uR9cJHojjxIPZB_vWTjh-q93adpI3mm78-S_DIek2HgV-fVQY7LiOhiFPO4D3ZRHFzzUadIFuPHORduTOUJ21EwxXML/file# [following]\n",
      "--2022-01-07 18:19:22--  https://uc6815d7ce37ab7882644dd34c81.dl.dropboxusercontent.com/cd/0/inline/BdUdsAXwe76Z3e3FwdLJksWxSopeSKIHzZusFREMDjASNCgVke2S4PpW0aW07uR9cJHojjxIPZB_vWTjh-q93adpI3mm78-S_DIek2HgV-fVQY7LiOhiFPO4D3ZRHFzzUadIFuPHORduTOUJ21EwxXML/file\n",
      "Resolving uc6815d7ce37ab7882644dd34c81.dl.dropboxusercontent.com (uc6815d7ce37ab7882644dd34c81.dl.dropboxusercontent.com)... 162.125.80.15, 2620:100:6018:15::a27d:30f\n",
      "Connecting to uc6815d7ce37ab7882644dd34c81.dl.dropboxusercontent.com (uc6815d7ce37ab7882644dd34c81.dl.dropboxusercontent.com)|162.125.80.15|:443... connected.\n",
      "HTTP request sent, awaiting response... 302 Found\n",
      "Location: /cd/0/inline2/BdWchDvkcJOk_pgcZCA1ff6yV0j-XeeLxH4h9CHgqZZPHDv0wXNsV30ZbqUpYTgkrFDhmWrdrTC3sYiiP8RVNZbRWOxKCOcb7NlDRxGgvbwvcgEjKFPmYUc0e68UV1B08Lybp2dx1ZN4M7sL0AJsIVQi_3-T71l1Me9ymQtG1WCEiXkpYZLhvC69hcfDUMd2ekdiGC6CBSAdsq31x4yexMud72nUDWRPcKzEPOY5JVSW7m6zaDQ5MNZNX7M35Mm52E4s3eZYjzonBAQ6-z8SItUiATd8lHf_Pa70B9TR-LmFt9m_6Al0U7GVj6jKFJoPHQYW-JDv_ZdMeZWp34YNuZoiDtDDI8uz-P7a2lD2DsyEpI7_4TqeU7xFcPaZNoDXwuo/file [following]\n",
      "--2022-01-07 18:19:23--  https://uc6815d7ce37ab7882644dd34c81.dl.dropboxusercontent.com/cd/0/inline2/BdWchDvkcJOk_pgcZCA1ff6yV0j-XeeLxH4h9CHgqZZPHDv0wXNsV30ZbqUpYTgkrFDhmWrdrTC3sYiiP8RVNZbRWOxKCOcb7NlDRxGgvbwvcgEjKFPmYUc0e68UV1B08Lybp2dx1ZN4M7sL0AJsIVQi_3-T71l1Me9ymQtG1WCEiXkpYZLhvC69hcfDUMd2ekdiGC6CBSAdsq31x4yexMud72nUDWRPcKzEPOY5JVSW7m6zaDQ5MNZNX7M35Mm52E4s3eZYjzonBAQ6-z8SItUiATd8lHf_Pa70B9TR-LmFt9m_6Al0U7GVj6jKFJoPHQYW-JDv_ZdMeZWp34YNuZoiDtDDI8uz-P7a2lD2DsyEpI7_4TqeU7xFcPaZNoDXwuo/file\n",
      "Reusing existing connection to uc6815d7ce37ab7882644dd34c81.dl.dropboxusercontent.com:443.\n",
      "HTTP request sent, awaiting response... 200 OK\n",
      "Length: 140830621 (134M) [application/zip]\n",
      "Saving to: ‘covid_19.1’\n",
      "\n",
      "covid_19.1          100%[===================>] 134.31M  14.7MB/s    in 9.8s    \n",
      "\n",
      "2022-01-07 18:19:34 (13.7 MB/s) - ‘covid_19.1’ saved [140830621/140830621]\n",
      "\n"
     ]
    }
   ],
   "source": [
    "!wget http://cb.lk/covid_19"
   ]
  },
  {
   "cell_type": "code",
   "execution_count": 20,
   "metadata": {
    "colab": {
     "base_uri": "https://localhost:8080/"
    },
    "id": "ISWW5L3Bg1MP",
    "outputId": "c7787a6f-7d07-4fa7-a949-ffeee74d6d23"
   },
   "outputs": [
    {
     "name": "stdout",
     "output_type": "stream",
     "text": [
      "Archive:  covid_19\n",
      "replace CovidDataset/Val/Covid/88de9d8c39e946abd495b37cd07d89e5-6531-0.jpg? [y]es, [n]o, [A]ll, [N]one, [r]ename: n\n",
      "replace CovidDataset/Val/Covid/covid-19-pneumonia-8.jpg? [y]es, [n]o, [A]ll, [N]one, [r]ename: n\n",
      "replace CovidDataset/Val/Covid/85E52EB3-56E9-4D67-82DA-DEA247C82886.jpeg? [y]es, [n]o, [A]ll, [N]one, [r]ename: n\n",
      "replace CovidDataset/Val/Covid/4-x-day1.jpg? [y]es, [n]o, [A]ll, [N]one, [r]ename: "
     ]
    }
   ],
   "source": [
    "!unzip covid_19"
   ]
  },
  {
   "cell_type": "code",
   "execution_count": 31,
   "metadata": {
    "id": "so_2x_MZiFVM"
   },
   "outputs": [],
   "source": [
    "TRAIN_PATH = \"CovidDataset/Train\"\n",
    "VAL_PATH = \"CovidDataset/Test\""
   ]
  },
  {
   "cell_type": "code",
   "execution_count": 32,
   "metadata": {
    "id": "0jdGt18Qg2Hq"
   },
   "outputs": [],
   "source": [
    "import numpy as np\n",
    "import matplotlib.pyplot as plt\n",
    "import keras\n",
    "from keras.layers import *\n",
    "from keras.models import *\n",
    "from keras.preprocessing import image"
   ]
  },
  {
   "cell_type": "code",
   "execution_count": 33,
   "metadata": {
    "id": "wgbu9glfg2XY"
   },
   "outputs": [],
   "source": [
    "#CNN based model in Keras\n",
    "\n",
    "model = Sequential()\n",
    "\n",
    "model.add(Conv2D(32 , kernel_size=(3,3) , activation='relu' , input_shape = (224,224,3)))\n",
    "model.add(Conv2D(64 , (3,3) , activation='relu' ))\n",
    "model.add(MaxPooling2D(pool_size = (2,2)))\n",
    "model.add(Dropout(0.25))\n",
    "\n",
    "model.add(Conv2D(64, (3,3) ,activation= 'relu'))\n",
    "model.add(MaxPooling2D( pool_size = (2,2)))\n",
    "model.add(Dropout(0.25))\n",
    "\n",
    "model.add(Conv2D(128 , (3,3) , activation= 'relu'))\n",
    "model.add(MaxPooling2D(pool_size= (2,2)))\n",
    "model.add(Dropout(0.25))\n",
    "\n",
    "model.add(Flatten())\n",
    "model.add(Dense(64 , activation='relu'))\n",
    "model.add(Dropout(0.5))\n",
    "\n",
    "model.add(Dense(1 , activation='sigmoid'))\n",
    "\n",
    "model.compile( loss = keras.losses.binary_crossentropy , optimizer = 'adam' , metrics = ['accuracy'])\n",
    "\n"
   ]
  },
  {
   "cell_type": "code",
   "execution_count": 34,
   "metadata": {
    "colab": {
     "base_uri": "https://localhost:8080/"
    },
    "id": "tZjBa9yUg2hR",
    "outputId": "1b08b46d-0101-4f3f-949a-0797713d2f2f"
   },
   "outputs": [
    {
     "name": "stdout",
     "output_type": "stream",
     "text": [
      "Model: \"sequential_2\"\n",
      "_________________________________________________________________\n",
      " Layer (type)                Output Shape              Param #   \n",
      "=================================================================\n",
      " conv2d_8 (Conv2D)           (None, 222, 222, 32)      896       \n",
      "                                                                 \n",
      " conv2d_9 (Conv2D)           (None, 220, 220, 64)      18496     \n",
      "                                                                 \n",
      " max_pooling2d_6 (MaxPooling  (None, 110, 110, 64)     0         \n",
      " 2D)                                                             \n",
      "                                                                 \n",
      " dropout_8 (Dropout)         (None, 110, 110, 64)      0         \n",
      "                                                                 \n",
      " conv2d_10 (Conv2D)          (None, 108, 108, 64)      36928     \n",
      "                                                                 \n",
      " max_pooling2d_7 (MaxPooling  (None, 54, 54, 64)       0         \n",
      " 2D)                                                             \n",
      "                                                                 \n",
      " dropout_9 (Dropout)         (None, 54, 54, 64)        0         \n",
      "                                                                 \n",
      " conv2d_11 (Conv2D)          (None, 52, 52, 128)       73856     \n",
      "                                                                 \n",
      " max_pooling2d_8 (MaxPooling  (None, 26, 26, 128)      0         \n",
      " 2D)                                                             \n",
      "                                                                 \n",
      " dropout_10 (Dropout)        (None, 26, 26, 128)       0         \n",
      "                                                                 \n",
      " flatten_2 (Flatten)         (None, 86528)             0         \n",
      "                                                                 \n",
      " dense_4 (Dense)             (None, 64)                5537856   \n",
      "                                                                 \n",
      " dropout_11 (Dropout)        (None, 64)                0         \n",
      "                                                                 \n",
      " dense_5 (Dense)             (None, 1)                 65        \n",
      "                                                                 \n",
      "=================================================================\n",
      "Total params: 5,668,097\n",
      "Trainable params: 5,668,097\n",
      "Non-trainable params: 0\n",
      "_________________________________________________________________\n"
     ]
    }
   ],
   "source": [
    "model.summary()"
   ]
  },
  {
   "cell_type": "code",
   "execution_count": 35,
   "metadata": {
    "id": "Nly7k4ckg2r8"
   },
   "outputs": [],
   "source": [
    "# Train from scratch\n",
    "train_datagen = image.ImageDataGenerator( \n",
    "    rescale= 1./255,\n",
    "    shear_range = 0.2,\n",
    "    zoom_range = 0.2,\n",
    "    horizontal_flip = True\n",
    ")\n",
    "\n",
    "test_datagen = image.ImageDataGenerator(rescale = 1./255)\n",
    "\n"
   ]
  },
  {
   "cell_type": "code",
   "execution_count": 36,
   "metadata": {
    "colab": {
     "base_uri": "https://localhost:8080/"
    },
    "id": "3in1nEpAg214",
    "outputId": "1ab55099-f412-409b-b94f-9a2cb7e8084b"
   },
   "outputs": [
    {
     "name": "stdout",
     "output_type": "stream",
     "text": [
      "Found 224 images belonging to 2 classes.\n"
     ]
    }
   ],
   "source": [
    "train_generator = train_datagen.flow_from_directory(\n",
    "    'CovidDataset/Train',\n",
    "    target_size = (224,224),\n",
    "    batch_size = 32,\n",
    "    class_mode = 'binary',\n",
    "    shuffle = True\n",
    ")"
   ]
  },
  {
   "cell_type": "code",
   "execution_count": 37,
   "metadata": {
    "colab": {
     "base_uri": "https://localhost:8080/"
    },
    "id": "GXWYWaaEg2-p",
    "outputId": "f426c389-ee4f-4d86-b56b-ce6b1a381103"
   },
   "outputs": [
    {
     "data": {
      "text/plain": [
       "{'Covid': 0, 'Normal': 1}"
      ]
     },
     "execution_count": 37,
     "metadata": {},
     "output_type": "execute_result"
    }
   ],
   "source": [
    "train_generator.class_indices"
   ]
  },
  {
   "cell_type": "code",
   "execution_count": 38,
   "metadata": {
    "colab": {
     "base_uri": "https://localhost:8080/"
    },
    "id": "eGSZdInVg48I",
    "outputId": "5f0cfd35-a73b-4c3b-d462-7d54df53bf59"
   },
   "outputs": [
    {
     "name": "stdout",
     "output_type": "stream",
     "text": [
      "Found 60 images belonging to 2 classes.\n"
     ]
    }
   ],
   "source": [
    "validation_generator = test_datagen.flow_from_directory(\n",
    "    'CovidDataset/Val',\n",
    "    target_size = (224,224),\n",
    "    batch_size = 32,\n",
    "    class_mode = 'binary',\n",
    "    shuffle = True\n",
    "    \n",
    ")"
   ]
  },
  {
   "cell_type": "code",
   "execution_count": 39,
   "metadata": {
    "colab": {
     "base_uri": "https://localhost:8080/"
    },
    "id": "FPa8P9Jug45y",
    "outputId": "6a935b16-0150-400b-d14e-b7a9837b175f"
   },
   "outputs": [
    {
     "name": "stdout",
     "output_type": "stream",
     "text": [
      "Epoch 1/20\n",
      "7/7 [==============================] - 13s 2s/step - loss: 1.3969 - accuracy: 0.5089 - val_loss: 0.6956 - val_accuracy: 0.5000\n",
      "Epoch 2/20\n",
      "7/7 [==============================] - 11s 2s/step - loss: 0.6936 - accuracy: 0.6116 - val_loss: 0.6891 - val_accuracy: 0.8833\n",
      "Epoch 3/20\n",
      "7/7 [==============================] - 11s 2s/step - loss: 0.6321 - accuracy: 0.6920 - val_loss: 0.5668 - val_accuracy: 0.9000\n",
      "Epoch 4/20\n",
      "7/7 [==============================] - 11s 2s/step - loss: 0.5237 - accuracy: 0.7545 - val_loss: 0.4043 - val_accuracy: 0.9333\n",
      "Epoch 5/20\n",
      "7/7 [==============================] - 11s 2s/step - loss: 0.3682 - accuracy: 0.8527 - val_loss: 0.2467 - val_accuracy: 0.9333\n",
      "Epoch 6/20\n",
      "7/7 [==============================] - 11s 2s/step - loss: 0.2088 - accuracy: 0.9196 - val_loss: 0.1148 - val_accuracy: 0.9500\n",
      "Epoch 7/20\n",
      "7/7 [==============================] - 11s 2s/step - loss: 0.2133 - accuracy: 0.9241 - val_loss: 0.1062 - val_accuracy: 0.9500\n",
      "Epoch 8/20\n",
      "7/7 [==============================] - 11s 2s/step - loss: 0.2541 - accuracy: 0.9107 - val_loss: 0.1450 - val_accuracy: 0.9833\n",
      "Epoch 9/20\n",
      "7/7 [==============================] - 11s 2s/step - loss: 0.2038 - accuracy: 0.9196 - val_loss: 0.0953 - val_accuracy: 0.9667\n",
      "Epoch 10/20\n",
      "7/7 [==============================] - 11s 2s/step - loss: 0.1474 - accuracy: 0.9420 - val_loss: 0.1445 - val_accuracy: 0.9667\n",
      "Epoch 11/20\n",
      "7/7 [==============================] - 11s 2s/step - loss: 0.1032 - accuracy: 0.9643 - val_loss: 0.1150 - val_accuracy: 0.9667\n",
      "Epoch 12/20\n",
      "7/7 [==============================] - 11s 2s/step - loss: 0.2296 - accuracy: 0.9286 - val_loss: 0.1024 - val_accuracy: 0.9667\n",
      "Epoch 13/20\n",
      "7/7 [==============================] - 11s 2s/step - loss: 0.1168 - accuracy: 0.9777 - val_loss: 0.1192 - val_accuracy: 0.9667\n",
      "Epoch 14/20\n",
      "7/7 [==============================] - 11s 2s/step - loss: 0.1272 - accuracy: 0.9688 - val_loss: 0.0450 - val_accuracy: 0.9833\n",
      "Epoch 15/20\n",
      "7/7 [==============================] - 11s 2s/step - loss: 0.0920 - accuracy: 0.9688 - val_loss: 0.0442 - val_accuracy: 0.9833\n",
      "Epoch 16/20\n",
      "7/7 [==============================] - 11s 2s/step - loss: 0.0644 - accuracy: 0.9777 - val_loss: 0.0463 - val_accuracy: 0.9833\n",
      "Epoch 17/20\n",
      "7/7 [==============================] - 11s 2s/step - loss: 0.1201 - accuracy: 0.9688 - val_loss: 0.1135 - val_accuracy: 0.9667\n",
      "Epoch 18/20\n",
      "7/7 [==============================] - 11s 2s/step - loss: 0.1053 - accuracy: 0.9464 - val_loss: 0.0514 - val_accuracy: 1.0000\n",
      "Epoch 19/20\n",
      "7/7 [==============================] - 11s 2s/step - loss: 0.0791 - accuracy: 0.9732 - val_loss: 0.0520 - val_accuracy: 0.9667\n",
      "Epoch 20/20\n",
      "7/7 [==============================] - 11s 2s/step - loss: 0.0762 - accuracy: 0.9777 - val_loss: 0.0451 - val_accuracy: 0.9667\n"
     ]
    }
   ],
   "source": [
    "hist = model.fit(\n",
    "    train_generator,\n",
    "    steps_per_epoch = 7,\n",
    "    epochs = 20,\n",
    "    validation_data = validation_generator,\n",
    "    validation_steps = 2\n",
    ")"
   ]
  },
  {
   "cell_type": "code",
   "execution_count": 40,
   "metadata": {
    "colab": {
     "base_uri": "https://localhost:8080/"
    },
    "id": "R3GCRz-MwbEl",
    "outputId": "fb7dcc25-d878-4490-ad65-7685e733f1b5"
   },
   "outputs": [
    {
     "data": {
      "text/plain": [
       "{'accuracy': [0.5089285969734192,\n",
       "  0.6116071343421936,\n",
       "  0.6919642686843872,\n",
       "  0.7544642686843872,\n",
       "  0.8526785969734192,\n",
       "  0.9196428656578064,\n",
       "  0.9241071343421936,\n",
       "  0.9107142686843872,\n",
       "  0.9196428656578064,\n",
       "  0.9419642686843872,\n",
       "  0.9642857313156128,\n",
       "  0.9285714030265808,\n",
       "  0.9776785969734192,\n",
       "  0.96875,\n",
       "  0.96875,\n",
       "  0.9776785969734192,\n",
       "  0.96875,\n",
       "  0.9464285969734192,\n",
       "  0.9732142686843872,\n",
       "  0.9776785969734192],\n",
       " 'loss': [1.3969050645828247,\n",
       "  0.6935691833496094,\n",
       "  0.6321313977241516,\n",
       "  0.5236878395080566,\n",
       "  0.36824941635131836,\n",
       "  0.2087632268667221,\n",
       "  0.21327878534793854,\n",
       "  0.25409001111984253,\n",
       "  0.20378322899341583,\n",
       "  0.14735428988933563,\n",
       "  0.10322431474924088,\n",
       "  0.2295621931552887,\n",
       "  0.11681108176708221,\n",
       "  0.12723834812641144,\n",
       "  0.09202487021684647,\n",
       "  0.06442080438137054,\n",
       "  0.12012831121683121,\n",
       "  0.10530780255794525,\n",
       "  0.07910222560167313,\n",
       "  0.07622171193361282],\n",
       " 'val_accuracy': [0.5,\n",
       "  0.8833333253860474,\n",
       "  0.8999999761581421,\n",
       "  0.9333333373069763,\n",
       "  0.9333333373069763,\n",
       "  0.949999988079071,\n",
       "  0.949999988079071,\n",
       "  0.9833333492279053,\n",
       "  0.9666666388511658,\n",
       "  0.9666666388511658,\n",
       "  0.9666666388511658,\n",
       "  0.9666666388511658,\n",
       "  0.9666666388511658,\n",
       "  0.9833333492279053,\n",
       "  0.9833333492279053,\n",
       "  0.9833333492279053,\n",
       "  0.9666666388511658,\n",
       "  1.0,\n",
       "  0.9666666388511658,\n",
       "  0.9666666388511658],\n",
       " 'val_loss': [0.6955839991569519,\n",
       "  0.6891285181045532,\n",
       "  0.5667791366577148,\n",
       "  0.4043010175228119,\n",
       "  0.24673700332641602,\n",
       "  0.11481650918722153,\n",
       "  0.10620627552270889,\n",
       "  0.14500337839126587,\n",
       "  0.09527761489152908,\n",
       "  0.14449001848697662,\n",
       "  0.11495968699455261,\n",
       "  0.10242095589637756,\n",
       "  0.11917338520288467,\n",
       "  0.04499479755759239,\n",
       "  0.044199224561452866,\n",
       "  0.04631703346967697,\n",
       "  0.11351461708545685,\n",
       "  0.05142341926693916,\n",
       "  0.052003875374794006,\n",
       "  0.04508156701922417]}"
      ]
     },
     "execution_count": 40,
     "metadata": {},
     "output_type": "execute_result"
    }
   ],
   "source": [
    "hist.history"
   ]
  },
  {
   "cell_type": "code",
   "execution_count": 41,
   "metadata": {
    "colab": {
     "base_uri": "https://localhost:8080/",
     "height": 265
    },
    "id": "JaU-wYyKg42v",
    "outputId": "f99cfb36-b39f-415c-bd67-a78117396659"
   },
   "outputs": [
    {
     "data": {
      "image/png": "[encoded data removed]",
      "text/plain": [
       "<Figure size 432x288 with 1 Axes>"
      ]
     },
     "metadata": {
      "needs_background": "light"
     },
     "output_type": "display_data"
    }
   ],
   "source": [
    "logs = hist.history\n",
    "plt.plot(logs['loss'],label = 'loss')\n",
    "plt.plot(logs['val_loss'], label = 'val loss')\n",
    "plt.legend()\n",
    "plt.show()"
   ]
  },
  {
   "cell_type": "code",
   "execution_count": 42,
   "metadata": {
    "colab": {
     "base_uri": "https://localhost:8080/",
     "height": 265
    },
    "id": "NyKGaFJhwpVl",
    "outputId": "fd593979-095d-47d0-cf1c-b1b2ed3ccecc"
   },
   "outputs": [
    {
     "data": {
      "image/png": "[encoded data removed]",
      "text/plain": [
       "<Figure size 432x288 with 1 Axes>"
      ]
     },
     "metadata": {
      "needs_background": "light"
     },
     "output_type": "display_data"
    }
   ],
   "source": [
    "plt.plot(logs['accuracy'],label = 'accuracy')\n",
    "plt.plot(logs['val_accuracy'], label = 'val accuracy')\n",
    "plt.legend()\n",
    "plt.show()"
   ]
  }
 ],
 "metadata": {
  "accelerator": "GPU",
  "colab": {
   "name": "Covid-19 Predictor Using X-rays",
   "provenance": []
  },
  "kernelspec": {
   "display_name": "Python 3 (ipykernel)",
   "language": "python",
   "name": "python3"
  },
  "language_info": {
   "codemirror_mode": {
    "name": "ipython",
    "version": 3
   },
   "file_extension": ".py",
   "mimetype": "text/x-python",
   "name": "python",
   "nbconvert_exporter": "python",
   "pygments_lexer": "ipython3",
   "version": "3.9.7"
  }
 },
 "nbformat": 4,
 "nbformat_minor": 1
}
